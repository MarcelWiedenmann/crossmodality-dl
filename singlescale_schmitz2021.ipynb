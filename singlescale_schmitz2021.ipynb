{
 "cells": [
  {
   "cell_type": "markdown",
   "metadata": {},
   "source": [
    "# Train and evaluate single-scale baseline #1\n",
    "In this notebook, the single-scale ResNet18-U-Net used as baseline by Schmitz et al. (2021) is trained and evaluated on terminal H&E data for the purpose of providing a benchmark for the multi-scale model.\n",
    "\n",
    "Training and evaluation are done in 5-fold cross-validation using the same folds as for the other competing models."
   ]
  },
  {
   "cell_type": "markdown",
   "metadata": {},
   "source": [
    "## Train and evaluate model"
   ]
  },
  {
   "cell_type": "code",
   "execution_count": null,
   "metadata": {},
   "outputs": [],
   "source": [
    "import constants as c\n",
    "import crossvalidation as cv\n",
    "from data import MultiscaleDataset, NumpyDatasetSource\n",
    "from data_collection import DataCollection, DataCollectionConfig\n",
    "from data_preparation import DataPreparation, DataPreparationConfig\n",
    "from data_sampling import StratifyingDataSampling\n",
    "from experiment import Experiment\n",
    "from prediction import Prediction, PredictionConfig\n",
    "from singlescale.schmitz2021 import ResNetUNet\n",
    "from training import Training, TrainingConfig\n",
    "\n",
    "\n",
    "terminal_sample_dirs = cv.get_terminal_sample_dirs()\n",
    "terminal_targets_dir = cv.get_terminal_targets_dir()\n",
    "cv_folds = cv.get_folds()\n",
    "\n",
    "\n",
    "for i, (\n",
    "    train_images,\n",
    "    val_images,\n",
    "    terminal_test_images,\n",
    "    _,\n",
    ") in enumerate(cv_folds):\n",
    "    with Experiment(name=f\"singlescale1_run_4_cv_fold_{i}\", seed=c.seed) as exp:\n",
    "        terminal_data_collection = DataCollection(\n",
    "            exp.working_dir,\n",
    "            DataCollectionConfig(\n",
    "                sample_dirs=[terminal_sample_dirs[0]],\n",
    "                targets_dir=terminal_targets_dir,\n",
    "                train_images=train_images,\n",
    "                val_images=val_images,\n",
    "                test_images=terminal_test_images,\n",
    "            ),\n",
    "            exp.dry_run,\n",
    "            name=\"terminal_data_collection\",\n",
    "        )\n",
    "        (\n",
    "            train_entries,\n",
    "            val_entries,\n",
    "            terminal_test_entries,\n",
    "        ) = terminal_data_collection.run()\n",
    "\n",
    "        # Train model on terminal H&Es:\n",
    "\n",
    "        data_sampling = StratifyingDataSampling(exp.working_dir, exp.dry_run)\n",
    "        train_strata, val_strata = data_sampling.run(train_entries, val_entries)\n",
    "\n",
    "        data_preparation = DataPreparation(\n",
    "            exp.working_dir,\n",
    "            DataPreparationConfig(\n",
    "                resampling_seed=1914177978,\n",
    "            ),\n",
    "            exp.dry_run,\n",
    "        )\n",
    "        train_data, val_data = data_preparation.run(\n",
    "            train_strata,\n",
    "            val_strata,\n",
    "        )\n",
    "\n",
    "        model = ResNetUNet()\n",
    "\n",
    "        training = Training(\n",
    "            exp.working_dir,\n",
    "            TrainingConfig(\n",
    "                train_batch_size=24,\n",
    "                val_batch_size=24,\n",
    "                epochs=120,\n",
    "                early_stopping=True,\n",
    "                early_stopping_patience=30,\n",
    "            ),\n",
    "            exp.dry_run,\n",
    "        )\n",
    "        best_model = training.run(model, train_data, val_data)\n",
    "        del model\n",
    "\n",
    "        # Test model on terminal H&Es:\n",
    "\n",
    "        terminal_test_data = {\n",
    "            image_name: MultiscaleDataset(NumpyDatasetSource(entries))\n",
    "            for image_name, entries in terminal_test_entries.items()\n",
    "        }\n",
    "        terminal_prediction = Prediction(\n",
    "            exp.working_dir,\n",
    "            PredictionConfig(\n",
    "                batch_size=24,\n",
    "                save_pred=False,\n",
    "            ),\n",
    "            exp.dry_run,\n",
    "        )\n",
    "        terminal_prediction.run(best_model, terminal_test_data, pred_subdir=\"terminal\")\n",
    "\n",
    "        del best_model\n"
   ]
  }
 ],
 "metadata": {
  "kernelspec": {
   "display_name": "Python 3.9.7 ('torch')",
   "language": "python",
   "name": "python3"
  },
  "language_info": {
   "codemirror_mode": {
    "name": "ipython",
    "version": 3
   },
   "file_extension": ".py",
   "mimetype": "text/x-python",
   "name": "python",
   "nbconvert_exporter": "python",
   "pygments_lexer": "ipython3",
   "version": "3.9.7"
  },
  "vscode": {
   "interpreter": {
    "hash": "36d8e351cbfe533ca7ec984ce5a1d1d36fa6c05bd1963d9ccc7f5ec1c59d2b60"
   }
  }
 },
 "nbformat": 4,
 "nbformat_minor": 4
}
