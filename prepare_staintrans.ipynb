{
 "cells": [
  {
   "cell_type": "markdown",
   "metadata": {},
   "source": [
    "# Preparation of the labeled and independent data sets for stain transfer"
   ]
  },
  {
   "cell_type": "markdown",
   "metadata": {},
   "source": [
    "## Additional index structures for guidance of tile sampling at training time"
   ]
  },
  {
   "cell_type": "code",
   "execution_count": null,
   "metadata": {},
   "outputs": [],
   "source": [
    "import constants as c\n",
    "import datasets.labeled\n",
    "import datasets.independent\n",
    "from preprocessing import compute_tile_tissue_fg_overlap\n",
    "\n",
    "\n",
    "serial_terminal_tilings_dir_pairs = [\n",
    "    (\n",
    "        # Serial 256x256\n",
    "        c.scratch_dir / \"serial_he_tiled\" / \"level_0\" / \"shape_256_256_overlap_0_0\",\n",
    "        # Terminal 256x256\n",
    "        c.scratch_dir\n",
    "        / \"dataset_208_tiled\"\n",
    "        / \"he\"\n",
    "        / \"level_0\"\n",
    "        / \"shape_256_256_overlap_0_0\",\n",
    "    ),\n",
    "    (\n",
    "        # Serial 512x512\n",
    "        c.scratch_dir / \"serial_he_tiled\" / \"level_0\" / \"shape_512_512_overlap_0_0\",\n",
    "        # Terminal 512x512\n",
    "        c.scratch_dir\n",
    "        / \"dataset_208_tiled\"\n",
    "        / \"he\"\n",
    "        / \"level_0\"\n",
    "        / \"shape_512_512_overlap_0_0\",\n",
    "    ),\n",
    "]\n",
    "\n",
    "for serial_tilings_dir, terminal_tilings_dir in serial_terminal_tilings_dir_pairs:\n",
    "    # Note: Produces NumPy runtime warnings due to NaNs when there is no tissue foreground in a pair of tiles (divison\n",
    "    # by zero). This is expected, NaNs are replaced by an overlap ratio of zero.\n",
    "    compute_tile_tissue_fg_overlap(\n",
    "        serial_tilings_dir,\n",
    "        terminal_tilings_dir,\n",
    "        c.serial2terminal,\n",
    "        datasets.independent.extract_tissue_fg,\n",
    "        datasets.labeled.extract_tissue_fg,\n",
    "    )\n"
   ]
  },
  {
   "cell_type": "code",
   "execution_count": null,
   "metadata": {},
   "outputs": [],
   "source": [
    "import constants as c\n",
    "from preprocessing import compute_tile_histograms\n",
    "\n",
    "\n",
    "tilings_dirs = [\n",
    "    # Serial 256x256\n",
    "    c.scratch_dir / \"serial_he_tiled\" / \"level_0\" / \"shape_256_256_overlap_0_0\",\n",
    "    # Terminal 256x256\n",
    "    c.scratch_dir\n",
    "    / \"dataset_208_tiled\"\n",
    "    / \"he\"\n",
    "    / \"level_0\"\n",
    "    / \"shape_256_256_overlap_0_0\",\n",
    "    # Serial 512x512\n",
    "    c.scratch_dir / \"serial_he_tiled\" / \"level_0\" / \"shape_512_512_overlap_0_0\",\n",
    "    # Terminal 512x512\n",
    "    c.scratch_dir\n",
    "    / \"dataset_208_tiled\"\n",
    "    / \"he\"\n",
    "    / \"level_0\"\n",
    "    / \"shape_512_512_overlap_0_0\",\n",
    "]\n",
    "\n",
    "\n",
    "for tilings_dir in tilings_dirs:\n",
    "    compute_tile_histograms(tilings_dir)\n"
   ]
  },
  {
   "cell_type": "markdown",
   "metadata": {},
   "source": [
    "## Extract independent data set's tissue foregrounds\n",
    "\n",
    "Currently used to restrict the computation of segmentation performance metrics on stain-transferred images to their tissue foreground regions (i.e. excluding glass slide).\n",
    "Ideally, this step and others that extract tissue foreground (see e.g. above) should be merged for efficiency reasons."
   ]
  },
  {
   "cell_type": "code",
   "execution_count": null,
   "metadata": {},
   "outputs": [],
   "source": [
    "import constants as c\n",
    "import numpy as np\n",
    "from datasets.independent import extract_tissue_fg\n",
    "from logging import info\n",
    "from utils import list_files\n",
    "\n",
    "\n",
    "source_tilings_dir = (\n",
    "    c.scratch_dir / \"serial_he_tiled\" / \"level_0\" / \"shape_512_512_overlap_0_0\"\n",
    ")\n",
    "target_tilings_dir = (\n",
    "    c.scratch_dir\n",
    "    / \"serial_he_tissue_masks_tiled\"\n",
    "    / \"level_0\"\n",
    "    / \"shape_512_512_overlap_0_0\"\n",
    ")\n",
    "\n",
    "\n",
    "source_tiling_dirs = list_files(source_tilings_dir, file_pattern=\"*/\")\n",
    "info(\n",
    "    f\"Extracting tissue masks from {len(source_tiling_dirs)} tilings in directory {source_tilings_dir}.\"\n",
    ")\n",
    "for source_tiling_dir in source_tiling_dirs:\n",
    "    source_tile_paths = list_files(source_tiling_dir, file_extension=\".npy\")\n",
    "    info(\n",
    "        f\"Extracting tissue masks from tiling {source_tiling_dir.name} consisting of {len(source_tile_paths)} tiles.\"\n",
    "    )\n",
    "    target_tiling_dir = target_tilings_dir / source_tiling_dir.name\n",
    "    info(f\"Tissue masks will be saved to {target_tiling_dir}.\")\n",
    "    target_tiling_dir.mkdir(parents=True)\n",
    "    for tile_path in source_tile_paths:\n",
    "        tile = np.load(tile_path)\n",
    "        tissue_mask = extract_tissue_fg(tile)\n",
    "        tissue_mask_save_path = target_tiling_dir / tile_path.name\n",
    "        np.save(tissue_mask_save_path, tissue_mask)\n",
    "info(\"Extracting tissue masks done.\")\n"
   ]
  }
 ],
 "metadata": {
  "kernelspec": {
   "display_name": "torch",
   "language": "python",
   "name": "torch"
  },
  "language_info": {
   "codemirror_mode": {
    "name": "ipython",
    "version": 3
   },
   "file_extension": ".py",
   "mimetype": "text/x-python",
   "name": "python",
   "nbconvert_exporter": "python",
   "pygments_lexer": "ipython3",
   "version": "3.9.7"
  },
  "vscode": {
   "interpreter": {
    "hash": "36d8e351cbfe533ca7ec984ce5a1d1d36fa6c05bd1963d9ccc7f5ec1c59d2b60"
   }
  }
 },
 "nbformat": 4,
 "nbformat_minor": 4
}
