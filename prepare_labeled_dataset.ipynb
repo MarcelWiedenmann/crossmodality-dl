{
 "cells": [
  {
   "cell_type": "markdown",
   "metadata": {},
   "source": [
    "# Preparation of the IF-labeled data set used for development"
   ]
  },
  {
   "cell_type": "markdown",
   "metadata": {},
   "source": [
    "## Import"
   ]
  },
  {
   "cell_type": "markdown",
   "metadata": {},
   "source": [
    "### Import terminal H&E + IF images into workspace"
   ]
  },
  {
   "cell_type": "code",
   "execution_count": null,
   "metadata": {},
   "outputs": [],
   "source": [
    "import constants as c\n",
    "from pathlib import Path\n",
    "from datasets.labeled import import_images\n",
    "\n",
    "\n",
    "source_dir = c.terminal_he_source_dir\n",
    "image_names = list(c.terminal2serial.keys())\n",
    "target_dir = c.scratch_dir / \"dataset_208\"\n",
    "\n",
    "\n",
    "import_images(source_dir, target_dir, image_names=image_names)\n"
   ]
  },
  {
   "cell_type": "markdown",
   "metadata": {},
   "source": [
    "## Reading and preprocessing"
   ]
  },
  {
   "cell_type": "markdown",
   "metadata": {},
   "source": [
    "### Read and extract H&E channels at different scale levels"
   ]
  },
  {
   "cell_type": "code",
   "execution_count": null,
   "metadata": {},
   "outputs": [],
   "source": [
    "import constants as c\n",
    "import utils\n",
    "from datasets.labeled import extract_he\n",
    "\n",
    "\n",
    "source_dir = c.scratch_dir / \"dataset_208\"\n",
    "pyramid_levels = [0, 2, 3]\n",
    "target_dir = c.scratch_dir / \"dataset_208_preprocessed\" / \"he\"\n",
    "\n",
    "\n",
    "image_paths = utils.list_files(source_dir, file_extension=\".ome.tiff\")\n",
    "for level in pyramid_levels:\n",
    "    level_dir = target_dir / f\"level_{level}\"\n",
    "    level_dir.mkdir(parents=True)\n",
    "    for image_path in image_paths:\n",
    "        save_path = level_dir / (image_path.name + \".npy\")\n",
    "        extract_he(image_path, save_path, pyramid_level=level)\n"
   ]
  },
  {
   "cell_type": "markdown",
   "metadata": {},
   "source": [
    "### Read and extract CKSOX channel at full scale"
   ]
  },
  {
   "cell_type": "code",
   "execution_count": null,
   "metadata": {},
   "outputs": [],
   "source": [
    "import constants as c\n",
    "import utils\n",
    "from datasets.labeled import extract_cksox\n",
    "\n",
    "\n",
    "source_dir = c.scratch_dir / \"dataset_208\"\n",
    "target_dir = c.scratch_dir / \"dataset_208_preprocessed\" / \"cksox\"\n",
    "\n",
    "\n",
    "image_paths = utils.list_files(source_dir, file_extension=\".ome.tiff\")\n",
    "target_dir.mkdir()\n",
    "for image_path in image_paths:\n",
    "    save_path = target_dir / (image_path.name + \".npy\")\n",
    "    extract_cksox(image_path, save_path)\n"
   ]
  },
  {
   "cell_type": "markdown",
   "metadata": {},
   "source": [
    "### Binarize CKSOX channel"
   ]
  },
  {
   "cell_type": "code",
   "execution_count": null,
   "metadata": {},
   "outputs": [],
   "source": [
    "import constants as c\n",
    "from preprocessing import threshold_images\n",
    "\n",
    "\n",
    "source_dir = c.scratch_dir / \"dataset_208_preprocessed\" / \"cksox\"\n",
    "threshold = 1000\n",
    "target_dir = (\n",
    "    c.scratch_dir / \"dataset_208_preprocessed\" / \"cksox\" / f\"masks_thr_{threshold}\"\n",
    ")\n",
    "\n",
    "\n",
    "threshold_images(source_dir, target_dir, threshold=threshold)\n"
   ]
  },
  {
   "cell_type": "markdown",
   "metadata": {},
   "source": [
    "### Fill holes in binarized masks"
   ]
  },
  {
   "cell_type": "code",
   "execution_count": null,
   "metadata": {},
   "outputs": [],
   "source": [
    "import constants as c\n",
    "from preprocessing import fill_holes_in_masks\n",
    "\n",
    "\n",
    "source_dir = (\n",
    "    c.scratch_dir / \"dataset_208_preprocessed\" / \"cksox\" / f\"masks_thr_{threshold}\"\n",
    ")\n",
    "dia_BR = 15\n",
    "dia_LU = 50\n",
    "diameters = {\n",
    "    \"H2021-192_exp2_s01_HP-224363BR.ome.tiff\": dia_BR,\n",
    "    \"H2021-192_exp2_s02_HP-224470BR.ome.tiff\": dia_BR,\n",
    "    \"H2021-192_exp2_s03_HP-224551BR.ome.tiff\": dia_BR,\n",
    "    \"H2021-192_exp2_s04_HP-224388BR.ome.tiff\": dia_BR,\n",
    "    \"H2021-192_exp2_s05_HP-82163LU.ome.tiff\": dia_LU,\n",
    "    \"H2021-192_exp2_s06_HP-70699LU.ome.tiff\": dia_LU,\n",
    "    \"H2021-192_exp2_s07_HP-58283LU.ome.tiff\": dia_LU,\n",
    "    \"H2021-192_exp2_s08_HP-58289LU.ome.tiff\": dia_LU,\n",
    "    \"H2021-192_exp2_s09_HP-58982LU.ome.tiff\": dia_LU,\n",
    "}\n",
    "target_dir = (\n",
    "    c.scratch_dir\n",
    "    / \"dataset_208_preprocessed\"\n",
    "    / \"cksox\"\n",
    "    / f\"masks_thr_{threshold}\"\n",
    "    / f\"holes_filled_dia_BR_{dia_BR}_LU_{dia_LU}\"\n",
    ")\n",
    "\n",
    "\n",
    "fill_holes_in_masks(source_dir, target_dir, diameters=diameters)\n"
   ]
  },
  {
   "cell_type": "markdown",
   "metadata": {},
   "source": [
    "## Tiling #1\n",
    "For the models from Schmitz et al. (2021)."
   ]
  },
  {
   "cell_type": "markdown",
   "metadata": {},
   "source": [
    "### Split the H&E images at the different scale levels into tiles"
   ]
  },
  {
   "cell_type": "code",
   "execution_count": null,
   "metadata": {},
   "outputs": [],
   "source": [
    "import constants as c\n",
    "from preprocessing import tile_images\n",
    "\n",
    "\n",
    "source_dir = c.scratch_dir / \"dataset_208_preprocessed\" / \"he\"\n",
    "pyramid_levels = [0, 2, 3]\n",
    "tile_shapes = [(512, 512), (512, 512), (512, 512)]\n",
    "stride = (512, 512)\n",
    "target_dir = c.scratch_dir / \"dataset_208_tiled\" / \"he\"\n",
    "\n",
    "\n",
    "for level, tile_shape in zip(pyramid_levels, tile_shapes):\n",
    "    level_dir = target_dir / f\"level_{level}\"\n",
    "    level_dir.mkdir(parents=True, exist_ok=True)\n",
    "    overlap = (tile_shape[0] - stride[0]) // 2, (tile_shape[1] - stride[1]) // 2\n",
    "    tiling_dir = (\n",
    "        level_dir / f\"shape_{stride[0]}_{stride[1]}_overlap_{overlap[0]}_{overlap[1]}\"\n",
    "    )\n",
    "\n",
    "    anchor_y = stride[0] // 2 ** (level + 1)\n",
    "    anchor_x = stride[1] // 2 ** (level + 1)\n",
    "    stride_y = stride[0] // 2**level\n",
    "    stride_x = stride[1] // 2**level\n",
    "\n",
    "    tile_images(\n",
    "        source_dir / f\"level_{level}\",\n",
    "        tiling_dir,\n",
    "        tile_shape,\n",
    "        (anchor_y, anchor_x),\n",
    "        (stride_y, stride_x),\n",
    "    )\n"
   ]
  },
  {
   "cell_type": "markdown",
   "metadata": {},
   "source": [
    "### Split the full-resolution CKSOX masks into tiles"
   ]
  },
  {
   "cell_type": "code",
   "execution_count": null,
   "metadata": {},
   "outputs": [],
   "source": [
    "import constants as c\n",
    "from preprocessing import tile_images\n",
    "\n",
    "\n",
    "source_dir = (\n",
    "    c.scratch_dir\n",
    "    / \"dataset_208_preprocessed\"\n",
    "    / \"cksox\"\n",
    "    / \"masks_thr_1000\"\n",
    "    / \"holes_filled_dia_BR_15_LU_50\"\n",
    ")\n",
    "tile_shape = (512, 512)\n",
    "stride = (512, 512)\n",
    "target_dir = (\n",
    "    c.scratch_dir\n",
    "    / \"dataset_208_tiled\"\n",
    "    / \"cksox\"\n",
    "    / \"masks_thr_1000\"\n",
    "    / \"holes_filled_dia_BR_15_LU_50\"\n",
    ")\n",
    "\n",
    "\n",
    "level_dir = target_dir / \"level_0\"\n",
    "level_dir.mkdir(parents=True, exist_ok=True)\n",
    "overlap = (tile_shape[0] - stride[0]) // 2, (tile_shape[1] - stride[1]) // 2\n",
    "tiling_dir = (\n",
    "    level_dir / f\"shape_{stride[0]}_{stride[1]}_overlap_{overlap[0]}_{overlap[1]}\"\n",
    ")\n",
    "\n",
    "anchor_y, anchor_x = stride[0] // 2, stride[1] // 2\n",
    "stride_y, stride_x = stride\n",
    "\n",
    "tile_images(\n",
    "    source_dir, tiling_dir, tile_shape, (anchor_y, anchor_x), (stride_y, stride_x)\n",
    ")\n"
   ]
  },
  {
   "cell_type": "markdown",
   "metadata": {},
   "source": [
    "## Index structures for guidance of tile sampling at training time"
   ]
  },
  {
   "cell_type": "markdown",
   "metadata": {},
   "source": [
    "### Create lookup tables for tissue foreground-to-background ratio"
   ]
  },
  {
   "cell_type": "code",
   "execution_count": null,
   "metadata": {},
   "outputs": [],
   "source": [
    "import constants as c\n",
    "import numpy as np\n",
    "from datasets.labeled import extract_tissue_fg\n",
    "from preprocessing import compute_tile_statistics\n",
    "\n",
    "\n",
    "tilings_dir = (\n",
    "    c.scratch_dir / \"dataset_208_tiled\" / \"he\" / \"level_0\" / \"shape_512_512_overlap_0_0\"\n",
    ")\n",
    "\n",
    "\n",
    "def compute_tissue_fg_ratio(tile: np.ndarray) -> float:\n",
    "    assert np.issubdtype(tile.dtype, np.floating)\n",
    "    tissue_mask = extract_tissue_fg(tile)\n",
    "    return tissue_mask.sum() / float(tissue_mask.size)\n",
    "\n",
    "\n",
    "compute_tile_statistics(tilings_dir, \"tissue_fg_ratios\", compute_tissue_fg_ratio)\n"
   ]
  },
  {
   "cell_type": "markdown",
   "metadata": {},
   "source": [
    "### Create lookup tables for label foreground-to-background ratio"
   ]
  },
  {
   "cell_type": "code",
   "execution_count": null,
   "metadata": {},
   "outputs": [],
   "source": [
    "import constants as c\n",
    "import numpy as np\n",
    "from preprocessing import compute_tile_statistics\n",
    "\n",
    "\n",
    "tilings_dir = (\n",
    "    c.scratch_dir\n",
    "    / \"dataset_208_tiled\"\n",
    "    / \"cksox\"\n",
    "    / \"masks_thr_1000\"\n",
    "    / \"holes_filled_dia_BR_15_LU_50\"\n",
    "    / \"level_0\"\n",
    "    / \"shape_512_512_overlap_0_0\"\n",
    ")\n",
    "\n",
    "\n",
    "def compute_label_fg_ratio(tile: np.ndarray) -> float:\n",
    "    assert tile.dtype == \"bool\"\n",
    "    return tile.sum() / float(tile.size)\n",
    "\n",
    "\n",
    "compute_tile_statistics(tilings_dir, \"label_fg_ratios\", compute_label_fg_ratio)\n"
   ]
  },
  {
   "cell_type": "markdown",
   "metadata": {},
   "source": [
    "## Tiling #2\n",
    "For the model from Bulten et al. (2019)."
   ]
  },
  {
   "cell_type": "markdown",
   "metadata": {},
   "source": [
    "### Split the full-resolution H&E images into tiles"
   ]
  },
  {
   "cell_type": "code",
   "execution_count": null,
   "metadata": {},
   "outputs": [],
   "source": [
    "import constants as c\n",
    "from preprocessing import tile_images\n",
    "\n",
    "\n",
    "source_dir = c.scratch_dir / \"dataset_208_preprocessed\" / \"he\"\n",
    "tile_shape = (1024, 1024)\n",
    "stride = (1024, 1024)\n",
    "target_dir = c.scratch_dir / \"dataset_208_tiled\" / \"he\"\n",
    "\n",
    "\n",
    "level_dir = target_dir / \"level_0\"\n",
    "level_dir.mkdir(parents=True, exist_ok=True)\n",
    "overlap = (tile_shape[0] - stride[0]) // 2, (tile_shape[1] - stride[1]) // 2\n",
    "tiling_dir = (\n",
    "    level_dir / f\"shape_{stride[0]}_{stride[1]}_overlap_{overlap[0]}_{overlap[1]}\"\n",
    ")\n",
    "\n",
    "anchor_y, anchor_x = stride[0] // 2, stride[1] // 2\n",
    "stride_y, stride_x = stride\n",
    "\n",
    "tile_images(\n",
    "    source_dir / \"level_0\",\n",
    "    tiling_dir,\n",
    "    tile_shape,\n",
    "    (anchor_y, anchor_x),\n",
    "    (stride_y, stride_x),\n",
    ")\n"
   ]
  },
  {
   "cell_type": "markdown",
   "metadata": {},
   "source": [
    "### Split the full-resolution CKSOX masks into tiles"
   ]
  },
  {
   "cell_type": "code",
   "execution_count": null,
   "metadata": {},
   "outputs": [],
   "source": [
    "import constants as c\n",
    "from preprocessing import tile_images\n",
    "\n",
    "\n",
    "source_dir = (\n",
    "    c.scratch_dir\n",
    "    / \"dataset_208_preprocessed\"\n",
    "    / \"cksox\"\n",
    "    / \"masks_thr_1000\"\n",
    "    / \"holes_filled_dia_BR_15_LU_50\"\n",
    ")\n",
    "tile_shape = (1024, 1024)\n",
    "stride = (1024, 1024)\n",
    "target_dir = (\n",
    "    c.scratch_dir\n",
    "    / \"dataset_208_tiled\"\n",
    "    / \"cksox\"\n",
    "    / \"masks_thr_1000\"\n",
    "    / \"holes_filled_dia_BR_15_LU_50\"\n",
    ")\n",
    "\n",
    "\n",
    "level_dir = target_dir / \"level_0\"\n",
    "level_dir.mkdir(parents=True, exist_ok=True)\n",
    "overlap = (tile_shape[0] - stride[0]) // 2, (tile_shape[1] - stride[1]) // 2\n",
    "tiling_dir = (\n",
    "    level_dir / f\"shape_{stride[0]}_{stride[1]}_overlap_{overlap[0]}_{overlap[1]}\"\n",
    ")\n",
    "\n",
    "anchor_y, anchor_x = stride[0] // 2, stride[1] // 2\n",
    "stride_y, stride_x = stride\n",
    "\n",
    "tile_images(\n",
    "    source_dir, tiling_dir, tile_shape, (anchor_y, anchor_x), (stride_y, stride_x)\n",
    ")\n"
   ]
  },
  {
   "cell_type": "markdown",
   "metadata": {},
   "source": [
    "## Index structures for guidance of tile sampling"
   ]
  },
  {
   "cell_type": "markdown",
   "metadata": {},
   "source": [
    "### Create lookup tables for tissue foreground-to-background ratio"
   ]
  },
  {
   "cell_type": "code",
   "execution_count": null,
   "metadata": {},
   "outputs": [],
   "source": [
    "import constants as c\n",
    "import numpy as np\n",
    "from datasets.labeled import extract_tissue_fg\n",
    "from preprocessing import compute_tile_statistics\n",
    "\n",
    "\n",
    "tilings_dir = (\n",
    "    c.scratch_dir\n",
    "    / \"dataset_208_tiled\"\n",
    "    / \"he\"\n",
    "    / \"level_0\"\n",
    "    / \"shape_1024_1024_overlap_0_0\"\n",
    ")\n",
    "\n",
    "\n",
    "def compute_tissue_fg_ratio(tile: np.ndarray) -> float:\n",
    "    assert np.issubdtype(tile.dtype, np.floating)\n",
    "    tissue_mask = extract_tissue_fg(tile)\n",
    "    return tissue_mask.sum() / float(tissue_mask.size)\n",
    "\n",
    "\n",
    "compute_tile_statistics(tilings_dir, \"tissue_fg_ratios\", compute_tissue_fg_ratio)\n"
   ]
  },
  {
   "cell_type": "markdown",
   "metadata": {},
   "source": [
    "### Create lookup tables for label foreground-to-background ratio"
   ]
  },
  {
   "cell_type": "code",
   "execution_count": null,
   "metadata": {},
   "outputs": [],
   "source": [
    "import constants as c\n",
    "import numpy as np\n",
    "from preprocessing import compute_tile_statistics\n",
    "\n",
    "\n",
    "tilings_dir = (\n",
    "    c.scratch_dir\n",
    "    / \"dataset_208_tiled\"\n",
    "    / \"cksox\"\n",
    "    / \"masks_thr_1000\"\n",
    "    / \"holes_filled_dia_BR_15_LU_50\"\n",
    "    / \"level_0\"\n",
    "    / \"shape_1024_1024_overlap_0_0\"\n",
    ")\n",
    "\n",
    "\n",
    "def compute_label_fg_ratio(tile: np.ndarray) -> float:\n",
    "    assert tile.dtype == \"bool\"\n",
    "    return tile.sum() / float(tile.size)\n",
    "\n",
    "\n",
    "compute_tile_statistics(tilings_dir, \"label_fg_ratios\", compute_label_fg_ratio)\n"
   ]
  },
  {
   "cell_type": "markdown",
   "metadata": {},
   "source": [
    "## Tiling #3\n",
    "For some stain transfer experiments."
   ]
  },
  {
   "cell_type": "markdown",
   "metadata": {},
   "source": [
    "### Split the full-resolution H&E images into tiles"
   ]
  },
  {
   "cell_type": "code",
   "execution_count": null,
   "metadata": {},
   "outputs": [],
   "source": [
    "import constants as c\n",
    "from preprocessing import tile_images\n",
    "\n",
    "\n",
    "source_dir = c.scratch_dir / \"dataset_208_preprocessed\" / \"he\"\n",
    "pyramid_levels = [0]\n",
    "tile_shapes = [(256, 256), (256, 256), (256, 256)]\n",
    "stride = (256, 256)\n",
    "target_dir = c.scratch_dir / \"dataset_208_tiled\" / \"he\"\n",
    "\n",
    "\n",
    "for level, tile_shape in zip(pyramid_levels, tile_shapes):\n",
    "    level_dir = target_dir / f\"level_{level}\"\n",
    "    level_dir.mkdir(parents=True, exist_ok=True)\n",
    "    overlap = (tile_shape[0] - stride[0]) // 2, (tile_shape[1] - stride[1]) // 2\n",
    "    tiling_dir = (\n",
    "        level_dir / f\"shape_{stride[0]}_{stride[1]}_overlap_{overlap[0]}_{overlap[1]}\"\n",
    "    )\n",
    "\n",
    "    anchor_y = stride[0] // 2 ** (level + 1)\n",
    "    anchor_x = stride[1] // 2 ** (level + 1)\n",
    "    stride_y = stride[0] // 2**level\n",
    "    stride_x = stride[1] // 2**level\n",
    "\n",
    "    tile_images(\n",
    "        source_dir / f\"level_{level}\",\n",
    "        tiling_dir,\n",
    "        tile_shape,\n",
    "        (anchor_y, anchor_x),\n",
    "        (stride_y, stride_x),\n",
    "    )\n"
   ]
  },
  {
   "cell_type": "markdown",
   "metadata": {},
   "source": [
    "### Split the full-resolution CKSOX masks into tiles"
   ]
  },
  {
   "cell_type": "code",
   "execution_count": null,
   "metadata": {},
   "outputs": [],
   "source": [
    "import constants as c\n",
    "from preprocessing import tile_images\n",
    "\n",
    "\n",
    "source_dir = (\n",
    "    c.scratch_dir\n",
    "    / \"dataset_208_preprocessed\"\n",
    "    / \"cksox\"\n",
    "    / \"masks_thr_1000\"\n",
    "    / \"holes_filled_dia_BR_15_LU_50\"\n",
    ")\n",
    "tile_shape = (256, 256)\n",
    "stride = (256, 256)\n",
    "target_dir = (\n",
    "    c.scratch_dir\n",
    "    / \"dataset_208_tiled\"\n",
    "    / \"cksox\"\n",
    "    / \"masks_thr_1000\"\n",
    "    / \"holes_filled_dia_BR_15_LU_50\"\n",
    ")\n",
    "\n",
    "\n",
    "level_dir = target_dir / \"level_0\"\n",
    "level_dir.mkdir(parents=True, exist_ok=True)\n",
    "overlap = (tile_shape[0] - stride[0]) // 2, (tile_shape[1] - stride[1]) // 2\n",
    "tiling_dir = (\n",
    "    level_dir / f\"shape_{stride[0]}_{stride[1]}_overlap_{overlap[0]}_{overlap[1]}\"\n",
    ")\n",
    "\n",
    "anchor_y, anchor_x = stride[0] // 2, stride[1] // 2\n",
    "stride_y, stride_x = stride\n",
    "\n",
    "tile_images(\n",
    "    source_dir, tiling_dir, tile_shape, (anchor_y, anchor_x), (stride_y, stride_x)\n",
    ")\n"
   ]
  },
  {
   "cell_type": "markdown",
   "metadata": {},
   "source": [
    "## Index structures for guidance of tile sampling"
   ]
  },
  {
   "cell_type": "markdown",
   "metadata": {},
   "source": [
    "### Create lookup tables for tissue foreground-to-background ratio"
   ]
  },
  {
   "cell_type": "code",
   "execution_count": null,
   "metadata": {},
   "outputs": [],
   "source": [
    "import constants as c\n",
    "import numpy as np\n",
    "from datasets.labeled import extract_tissue_fg\n",
    "from preprocessing import compute_tile_statistics\n",
    "\n",
    "\n",
    "tilings_dir = (\n",
    "    c.scratch_dir / \"dataset_208_tiled\" / \"he\" / \"level_0\" / \"shape_256_256_overlap_0_0\"\n",
    ")\n",
    "\n",
    "\n",
    "def compute_tissue_fg_ratio(tile: np.ndarray) -> float:\n",
    "    assert np.issubdtype(tile.dtype, np.floating)\n",
    "    tissue_mask = extract_tissue_fg(tile)\n",
    "    return tissue_mask.sum() / float(tissue_mask.size)\n",
    "\n",
    "\n",
    "compute_tile_statistics(tilings_dir, \"tissue_fg_ratios\", compute_tissue_fg_ratio)\n"
   ]
  },
  {
   "cell_type": "markdown",
   "metadata": {},
   "source": [
    "## Tiling #4\n",
    "\n",
    "For stain transfer (inference)."
   ]
  },
  {
   "cell_type": "code",
   "execution_count": null,
   "metadata": {},
   "outputs": [],
   "source": [
    "import constants as c\n",
    "from preprocessing import tile_images\n",
    "\n",
    "\n",
    "source_dir = c.scratch_dir / \"dataset_208_preprocessed\" / \"he\"\n",
    "pyramid_levels = [0]\n",
    "tile_shapes = [(2048, 2048), (2048, 2048), (2048, 2048)]\n",
    "stride = (512, 512)\n",
    "target_dir = c.scratch_dir / \"dataset_208_tiled\" / \"he\"\n",
    "\n",
    "\n",
    "for level, tile_shape in zip(pyramid_levels, tile_shapes):\n",
    "    level_dir = target_dir / f\"level_{level}\"\n",
    "    level_dir.mkdir(parents=True, exist_ok=True)\n",
    "    overlap = (tile_shape[0] - stride[0]) // 2, (tile_shape[1] - stride[1]) // 2\n",
    "    tiling_dir = (\n",
    "        level_dir / f\"shape_{stride[0]}_{stride[1]}_overlap_{overlap[0]}_{overlap[1]}\"\n",
    "    )\n",
    "\n",
    "    anchor_y = stride[0] // 2 ** (level + 1)\n",
    "    anchor_x = stride[1] // 2 ** (level + 1)\n",
    "    stride_y = stride[0] // 2**level\n",
    "    stride_x = stride[1] // 2**level\n",
    "\n",
    "    tile_images(\n",
    "        source_dir / f\"level_{level}\",\n",
    "        tiling_dir,\n",
    "        tile_shape,\n",
    "        (anchor_y, anchor_x),\n",
    "        (stride_y, stride_x),\n",
    "    )"
   ]
  }
 ],
 "metadata": {
  "kernelspec": {
   "display_name": "torch",
   "language": "python",
   "name": "torch"
  },
  "language_info": {
   "codemirror_mode": {
    "name": "ipython",
    "version": 3
   },
   "file_extension": ".py",
   "mimetype": "text/x-python",
   "name": "python",
   "nbconvert_exporter": "python",
   "pygments_lexer": "ipython3",
   "version": "3.9.7"
  },
  "vscode": {
   "interpreter": {
    "hash": "36d8e351cbfe533ca7ec984ce5a1d1d36fa6c05bd1963d9ccc7f5ec1c59d2b60"
   }
  }
 },
 "nbformat": 4,
 "nbformat_minor": 4
}
